{
 "cells": [
  {
   "attachments": {},
   "cell_type": "markdown",
   "metadata": {},
   "source": [
    "## What can you do with python?\n",
    "1. Data analysis and machine learning\n",
    "2. Web Development\n",
    "3. Automation or scripting\n",
    "4. Everyday tasks\n",
    "\n",
    "\n",
    "Python is the fastest-growing language in computer programming. Learning Python is a great choice because Python is:\n",
    "\n",
    "1. Widely-adopted in the digital humanities and data science\n",
    "2. Regarded as an easy-to-learn language\n",
    "3. Flexible, having wide support for working with numerical and textual data\n",
    "4. A skill desired by employers in academic, non-profit, and private sectors\n",
    "\n",
    "## Jupyter Notebooks\n",
    "\n",
    "We'll also interact with Python using Jupyter Notebooks (like this one). When we hit `Run` in the menu bar, we are performing an action analogous to hitting enter from a command prompt. The code in the active cell will be executed. Users should be aware that though we are intereacting with a Web page, there is a Web server and Python enviroment running behind the scenes. This adds a later of complexity, but the ability to mix well-formatted documentation and code makes using Jupyter Notebook worthwhile."
   ]
  },
  {
   "attachments": {},
   "cell_type": "markdown",
   "metadata": {},
   "source": [
    "## Expressions and Operators"
   ]
  },
  {
   "cell_type": "code",
   "execution_count": null,
   "metadata": {},
   "outputs": [],
   "source": [
    "print(1 + 1)\n",
    "print(5 - 1)\n",
    "print(2 * 2)\n",
    "print(10 / 2)\n",
    "print(8 // 3)\n",
    "print(10 % 3)\n",
    "print(2**2)"
   ]
  },
  {
   "attachments": {},
   "cell_type": "markdown",
   "metadata": {},
   "source": [
    "When you run, or evaluate, an expression in Python, the order of operations is followed. (In grade school, you may remember learning the shorthand \"**PEMDAS**\".) This means that expressions are evaluated in this order:\n",
    "\n",
    "1. Parentheses\n",
    "2. Exponents\n",
    "3. Multiplication and Division (from left to right)\n",
    "4. Addition and Subtraction (from left to right)"
   ]
  },
  {
   "attachments": {},
   "cell_type": "markdown",
   "metadata": {},
   "source": [
    "## Data Types (Integer, Float, Strings and Boolean)\n",
    "\n",
    "As in most programming languages, each data value in a Python program has a **data type** (even though we typically don't specify it). We'll discuss some of the datatypes here.\n",
    "\n",
    "For a given data value, we can get its type using the `type` function, which takes an argument. The below print expressions show several of the built-in data types (and how literal values are parsed by default)."
   ]
  },
  {
   "cell_type": "code",
   "execution_count": null,
   "metadata": {},
   "outputs": [],
   "source": [
    "print(type(1))  # an integer\n",
    "print(type(2.0))  # a float\n",
    "print(type(\"hi!\"))  # a string\n",
    "print(type(True))  # a boolean value\n",
    "print(type([1, 2, 3, 4, 5]))  # a list (a mutable collection)\n",
    "print(type((1, 2, 3, 4, 5)))  # a tuple (an immutable collection)\n",
    "print(type({\"fname\": \"john\", \"lname\": \"doe\"}))  # a dictionary (a collection of key-value pairs)"
   ]
  },
  {
   "cell_type": "code",
   "execution_count": null,
   "metadata": {},
   "outputs": [],
   "source": [
    "print('hello' + ' world')\n",
    "print('55' + '23')"
   ]
  },
  {
   "attachments": {},
   "cell_type": "markdown",
   "metadata": {},
   "source": [
    "## Variables\n",
    "\n",
    "As in most programming languages, **variables** play a central role in Python. We need a way to store and refer to data in our programs, and variables are the primary way to do this. Specifically, we assign data values variables using the `=`. After the assignment has been made, we may use the variable to access the data as many times as we like.\n",
    "\n",
    "**Variable Naming Rules**\n",
    "\n",
    "In addition to being descriptive, variable names must follow 3 basic rules:\n",
    "\n",
    "1. Must be one word (no spaces allowed)\n",
    "2. Only letters, numbers and the underscore character (_)\n",
    "3. Cannot begin with a number\n",
    "\n",
    "* $variable = 1 \n",
    "* a variable = 2\n",
    "* a_variable = 3\n",
    "* 4variable = 4\n",
    "* variable5 = 5\n",
    "* variable-6 = 6\n",
    "* variAble = 7\n",
    "* Avariable = 8"
   ]
  },
  {
   "cell_type": "code",
   "execution_count": null,
   "metadata": {},
   "outputs": [],
   "source": [
    "new_integer_variable = 5\n",
    "new_integer_variable + 22"
   ]
  },
  {
   "cell_type": "code",
   "execution_count": null,
   "metadata": {},
   "outputs": [],
   "source": [
    "my_favorite_number = 7\n",
    "my_favorite_number = 9\n",
    "my_favorite_number"
   ]
  },
  {
   "cell_type": "code",
   "execution_count": null,
   "metadata": {},
   "outputs": [],
   "source": [
    "cats_in_house = 1\n",
    "cats_in_house = cats_in_house + 2\n",
    "cats_in_house"
   ]
  },
  {
   "cell_type": "code",
   "execution_count": null,
   "metadata": {},
   "outputs": [],
   "source": [
    "cats_in_house += 2\n",
    "cats_in_house"
   ]
  },
  {
   "cell_type": "code",
   "execution_count": null,
   "metadata": {},
   "outputs": [],
   "source": [
    "new_string_variable = 'Hello '\n",
    "new_string_variable + 'World!'"
   ]
  },
  {
   "cell_type": "code",
   "execution_count": null,
   "metadata": {},
   "outputs": [],
   "source": [
    "# Compute the number of seconds in 3 days\n",
    "days = 3\n",
    "hours_in_day = 24\n",
    "minutes_in_hour = 60\n",
    "seconds_in_minute = 60\n",
    "days * hours_in_day * minutes_in_hour * seconds_in_minute"
   ]
  },
  {
   "attachments": {},
   "cell_type": "markdown",
   "metadata": {},
   "source": [
    "## The str(), int(), and float() functions\n",
    "\n",
    "We can transform one variable type into another variable type with the `str()`, `int()`, and `float()` functions. Let's convert the integer above into a string so we can concatenate it."
   ]
  },
  {
   "cell_type": "code",
   "execution_count": null,
   "metadata": {},
   "outputs": [],
   "source": [
    "# Converting an integer into a string\n",
    "print('There are ' + str(7) + ' continents.')"
   ]
  },
  {
   "cell_type": "code",
   "execution_count": null,
   "metadata": {},
   "outputs": [],
   "source": [
    "# A program to tell a user how many months old they are\n",
    "user_age = input('How old are you? ') \n",
    "number_of_months = user_age * 12\n",
    "print('That is more than ' + number_of_months + ' months old!' )"
   ]
  },
  {
   "attachments": {},
   "cell_type": "markdown",
   "metadata": {},
   "source": [
    "## Boolean operators & Comparison operators\n",
    "\n",
    "```\n",
    "Operator - Meaning\n",
    "==\tEqual to\n",
    "!=\tNot equal to\n",
    "<\tLess than\n",
    ">\tGreater than\n",
    "<=\tLess than or equal to\n",
    ">=\tGreater than or equal to\n",
    "```\n",
    "\n",
    "```\n",
    "Expression - Evaluation\n",
    "True and True\tTrue\n",
    "True and False\tFalse\n",
    "False and True\tFalse\n",
    "False and False\tFalse\n",
    "```"
   ]
  },
  {
   "cell_type": "code",
   "execution_count": null,
   "metadata": {},
   "outputs": [],
   "source": [
    "print(67 == 67) # != 67 = 67\n",
    "print(10 != 10)\n",
    "print(10 < 9)\n",
    "print(30>20)\n",
    "print(10 <= 10)\n",
    "print(20 >= 30)"
   ]
  },
  {
   "cell_type": "code",
   "execution_count": null,
   "metadata": {},
   "outputs": [],
   "source": [
    "print((3 < 22) and (60 == 34))"
   ]
  },
  {
   "attachments": {},
   "cell_type": "markdown",
   "metadata": {},
   "source": [
    "## Controlling the Flow of Program Execution\n",
    "\n",
    "The general form of a **flow control statement** in Python is a condition followed by an action clause:\n",
    "\n",
    "```\n",
    "In this condition:\n",
    "       perform this action\n",
    "       \n",
    "```"
   ]
  },
  {
   "cell_type": "code",
   "execution_count": null,
   "metadata": {},
   "outputs": [],
   "source": [
    "# A program that responds to a user having a good day\n",
    "having_good_day = input('Are you having a good day? (Yes or No) ')\n",
    "if having_good_day == 'Yes' or having_good_day == 'yes':\n",
    "    print('Glad to hear your day is going well!')"
   ]
  },
  {
   "cell_type": "code",
   "execution_count": null,
   "metadata": {},
   "outputs": [],
   "source": [
    "x = 3\n",
    "\n",
    "# Test the number if it bigger than 10\n",
    "if x > 10:\n",
    "    print(\"value \" + str(x) + \" is greater than 10\")\n",
    "# Test the number if it bigger than or equal to 7 and less than 10\n",
    "elif x >= 7 and x < 10:\n",
    "    print(\"value \" + str(x) + \" is in range [7,10)\")\n",
    "# Test the number if it bigger than or equal to 5 and less than 7\n",
    "elif x >= 5 and x < 7:\n",
    "    print(\"value \" + str(x) + \" is in range [5,7)\")\n",
    "# Test the number if it's less than 5\n",
    "else:\n",
    "    print(\"value \" + str(x) + \" is less than 5\")"
   ]
  },
  {
   "attachments": {},
   "cell_type": "markdown",
   "metadata": {},
   "source": [
    "## While Loops\n",
    "\n",
    "Python provides both `while` loops and `for` loops. The former are arguably lower-level but not as natural-looking to a human eye.\n",
    "\n",
    "Below is a simple `while` loop. So long as the condition specified evaluates to a value comparable to `True`, the code in the body of the loop will be executed. As such, without the statement incrementing `i`, the loop would halt.\n",
    "\n",
    "```\n",
    "while condition:\n",
    "    do_something\n",
    "```"
   ]
  },
  {
   "cell_type": "code",
   "execution_count": null,
   "metadata": {},
   "outputs": [],
   "source": [
    "string = \"--saer-fagw-q-safas--1dwad-\"\n",
    "count = 0\n",
    "length = len(string)# get the length of the string\n",
    "\n",
    "i = 0\n",
    "while i < length:\n",
    "    if string[i] == \"-\":\n",
    "        count += 1\n",
    "        i += 1\n",
    "    else: i += 1\n",
    "\n",
    "print(count)"
   ]
  },
  {
   "cell_type": "code",
   "execution_count": null,
   "metadata": {},
   "outputs": [],
   "source": [
    "string = \"/file.php?id=21123\"\n",
    "idx = 0\n",
    "length = len(string)# get the length of the string\n",
    "\n",
    "i = 0\n",
    "while i < length:\n",
    "    if string[i] == \"=\":\n",
    "        idx = i\n",
    "        break\n",
    "    else: i += 1\n",
    "\n",
    "print(idx)\n",
    "print(string[idx])\n",
    "print(string[idx+1:])"
   ]
  },
  {
   "attachments": {},
   "cell_type": "markdown",
   "metadata": {},
   "source": [
    "## For Loops and the Range function\n",
    "\n",
    "In Python, `for` statements iterate over sequences and utilize the in keyword. Like `while` loops, `for` loops can contain `break` and `continue`. They can also contain `else` statements; these are executed when the loop ends via something other than `break`)."
   ]
  },
  {
   "cell_type": "code",
   "execution_count": null,
   "metadata": {},
   "outputs": [],
   "source": [
    "for i in range(5):\n",
    "    if i == 3:\n",
    "        continue\n",
    "    print(i)"
   ]
  },
  {
   "cell_type": "code",
   "execution_count": null,
   "metadata": {},
   "outputs": [],
   "source": [
    "x = range(11)\n",
    "for i in x:\n",
    "    print(i, i * i)"
   ]
  },
  {
   "attachments": {},
   "cell_type": "markdown",
   "metadata": {},
   "source": [
    "## Lists,Tuples, Sets, and Dictionaries"
   ]
  },
  {
   "attachments": {},
   "cell_type": "markdown",
   "metadata": {},
   "source": [
    "### Lists\n",
    "\n",
    "Many languages (e.g., Java) have what are often called `arrays`. In Python the object most like them are called `lists`. Like arrays in other languages, Python lists are represented syntactically using `[...]` blocks. Their elements can be referenced via indexes, and just like arrays in other languages, Python lists are `mutable` objects. That is, it is possible to change the value of an individual cell in a list. In this way, Python lists are unlike Python strings (which are immutable)."
   ]
  },
  {
   "cell_type": "code",
   "execution_count": null,
   "metadata": {},
   "outputs": [],
   "source": [
    "a = [0, 1, 2, 3]  #  a list of integers\n",
    "print(a)\n",
    "a[0] = 3  # overwrite the first element of the list\n",
    "print(a)\n",
    "a[1:3] = [4, 5]\n",
    "# overwrite the last two elements of the list (using values from a new list)\n",
    "print(a)"
   ]
  },
  {
   "cell_type": "code",
   "execution_count": null,
   "metadata": {},
   "outputs": [],
   "source": [
    "a = [1, 2, 3]\n",
    "b = [4, 5, 6]\n",
    "c = a + b\n",
    "print(a)\n",
    "print(b)\n",
    "print(c)\n",
    "print(\"-\" * 25)\n",
    "c[0] = 10\n",
    "b[0] = 40\n",
    "print(a)\n",
    "print(b)\n",
    "print(c)"
   ]
  },
  {
   "cell_type": "code",
   "execution_count": null,
   "metadata": {},
   "outputs": [],
   "source": [
    "a = []\n",
    "a.append(1)  # add an element to the end of the list\n",
    "a.append(2)\n",
    "a.append([3, 4])\n",
    "print(a)\n",
    "print(\"length of 'a': \", len(a))"
   ]
  },
  {
   "cell_type": "code",
   "execution_count": null,
   "metadata": {},
   "outputs": [],
   "source": [
    "a = [10]\n",
    "a.extend([11, 12])  # append elements of one list to the end of another one\n",
    "b = a\n",
    "c = a.copy()  # copy the elements of a to a new list, and then assign it to c\n",
    "b[0] = 20\n",
    "c[0] = 30\n",
    "print(\"a:\", a)\n",
    "print(\"b:\", b)\n",
    "print(\"c:\", c)"
   ]
  },
  {
   "cell_type": "code",
   "execution_count": null,
   "metadata": {},
   "outputs": [],
   "source": [
    "b.reverse()  # reverse the elements of the list in place\n",
    "print(\"a reversed:\", a)\n",
    "b.sort()\n",
    "print(\"a sorted:\", a)\n",
    "a.clear()  # empty the list\n",
    "print(\"b is \", b, \" having length \", len(b))"
   ]
  },
  {
   "cell_type": "code",
   "execution_count": null,
   "metadata": {},
   "outputs": [],
   "source": [
    "list1 = [\"a\", \"b\", \"d\", \"e\"]\n",
    "list1.insert(2, \"c\")  # insert element \"c\" at position 2, increasing the length by 1\n",
    "print(list1)\n",
    "e = list1.pop()  # remove the last element of the list\n",
    "print(\"popped: \", e, list1)\n",
    "list1 = [\"d\", \"b\", \"b\", \"c\", \"d\", \"d\", \"a\"]\n",
    "list1.sort()  # sort the list\n",
    "print(\"new list, sorted:\", list1)\n",
    "print(\"count of 'd': \", list1.count(\"d\"))  # count the number of times \"d\" occurs\n",
    "print(\"first index of 'd': \", list1.index(\"d\"))  # return the index of the first occurrence of \"d\"\n",
    "print(list1)\n",
    "\n",
    "del list1[2]  # remove the element at index 2\n",
    "print(\"element at index 2 removed:\", list1)\n",
    "\n",
    "del list1[2:4]  # remove the elements from index 2 to 4\n",
    "print(\"elements at index 2-4 removed:\", list1)"
   ]
  },
  {
   "attachments": {},
   "cell_type": "markdown",
   "metadata": {},
   "source": [
    "### Tuples\n",
    "\n",
    "There also exists an immutable counterpart to a list, the `tuple`. Elements can also be referenced by index, but (as with Python strings) new values cannot be assigned. Unlike a list, Tuples are created using either `(...)` or simply by using a comma-delimeted sequence of 1 or more elements."
   ]
  },
  {
   "cell_type": "code",
   "execution_count": null,
   "metadata": {},
   "outputs": [],
   "source": [
    "a = ()  # the empty tuple\n",
    "b = (1, 2)  # a tuple of 2 elements\n",
    "c = 3, 4, 5  # another way of creating a tuple\n",
    "d = (6,)  # a singleton tuple\n",
    "e = (7,)  # another singleton tuple\n",
    "print(a)\n",
    "print(b)\n",
    "print(c)\n",
    "print(d)\n",
    "print(len(d))\n",
    "print(e)\n",
    "print(b[1])"
   ]
  },
  {
   "cell_type": "code",
   "execution_count": null,
   "metadata": {},
   "outputs": [],
   "source": [
    "a = (1, 2, 3, 4) # Create python tuple\n",
    "b = \"x\", \"y\", \"z\" # Another way to create python tuple\n",
    "c = a[0:3] + b # Concatenate two python tuples\n",
    "print(c)"
   ]
  },
  {
   "attachments": {},
   "cell_type": "markdown",
   "metadata": {},
   "source": [
    "### Sets\n",
    "\n",
    "Sets, created using `{...}` or `set(...)` in Python, are unordered collections without duplicate elements. If the same element is added again, the set will not change."
   ]
  },
  {
   "cell_type": "code",
   "execution_count": null,
   "metadata": {},
   "outputs": [],
   "source": [
    "a = {\"a\", \"b\", \"c\", \"d\"}  # create a new set containing these elements\n",
    "b = set(\n",
    "    \"hello world\"\n",
    ")  # create a set containing the distinct characters of 'hello world'\n",
    "print(a)\n",
    "print(b)\n",
    "print(a | b)  # print the union of a and b\n",
    "print(a & b)  # print the intersection of a and b\n",
    "print(a - b)  # print elements of a not in b\n",
    "print(b - a)  # print elements of b not in a\n",
    "print(b ^ a)  # print elements in either but not both"
   ]
  },
  {
   "attachments": {},
   "cell_type": "markdown",
   "metadata": {},
   "source": [
    "### Dictionaries\n",
    "\n",
    "Dictionaries are collections of **key-value** pairs. A dictionary can be created using `d = {key1:value1, key2:value2, ...}` syntax, or else from 2-ary tuples using `dictionary()`. New key value pairs can be assigned, and old values referenced, using `d[key]`."
   ]
  },
  {
   "cell_type": "code",
   "execution_count": null,
   "metadata": {},
   "outputs": [],
   "source": [
    "employee = {\"last\": \"smth\", \"first\": \"joe\"} \n",
    "employee[\"middle\"] = \"william\"  \n",
    "employee[\"last\"] = \"smith\"\n",
    "addr = {} \n",
    "addr[\"number\"] = 1234\n",
    "addr[\"street\"] = \"Elm St\" \n",
    "addr[\"city\"] = \"Athens\" \n",
    "addr[\"state\"] = \"GA\" \n",
    "addr[\"zip\"] = \"30602\" \n",
    "employee[\"address\"] = addr\n",
    "print(employee)\n",
    "keys = list(employee.keys()) \n",
    "print(\"keys: \" + str(sorted(keys)))\n",
    "print(\"last\" in keys) \n",
    "print(\"lastt\" in keys)  \n",
    "\n",
    "employee2 = employee.copy()  \n",
    "employee2[\"last\"] = \"jones\"\n",
    "employee2[\"address\"][\n",
    "    \"street\"\n",
    "] = \"beech\"  \n",
    "print(employee)\n",
    "print(employee2)\n",
    "\n",
    "# This is the difference between a \"shallow\" copy and a \"deep copy\"\n",
    "\n",
    "# In a shallow copy, the object fields are copied over as references\n",
    "# If you change one, the other also changes since the reference is to the same memory address\n",
    "# In a deep copy, actual new copies of objects get created in entirely new addresses"
   ]
  },
  {
   "attachments": {},
   "cell_type": "markdown",
   "metadata": {},
   "source": [
    "## Conversion Between Types"
   ]
  },
  {
   "cell_type": "code",
   "execution_count": null,
   "metadata": {},
   "outputs": [],
   "source": [
    "y = (1, 2, 3, 1, 1) # Create tuple \n",
    "z = list(y)  # convert tuple to a list\n",
    "print(y)\n",
    "print(z)\n",
    "print(tuple(z))  # convert z to a tuple\n",
    "print(set(z))  # convert z to a set\n",
    "\n",
    "w = ((\"one\", 1), (\"two\", 2), (\"three\", 3)) # Create special tuple to convert it to dictionary \n",
    "v = dict(w) # Convert the tuple to dictionary \n",
    "print(v)\n",
    "print(tuple(v)) # Convert the dictionary to tuple\n",
    "print(tuple(v.keys())) # Get the keys of the dictionary \n",
    "print(tuple(v.values())) # Get the values of the keys in the dictionary "
   ]
  },
  {
   "attachments": {},
   "cell_type": "markdown",
   "metadata": {},
   "source": [
    "## Functions\n",
    "\n",
    "We have used several **Python functions** already, including `print()`, ` input()`, and `range()`. You can identify a function by the fact that it ends with a set of parentheses `()` where arguments can be passed into the function. Depending on the function (and your goals for using it), a function may accept no **arguments**, a single argument, or many arguments. For example, when we use the `print()` function, a string (or a variable containing a string) is passed as an argument."
   ]
  },
  {
   "cell_type": "code",
   "execution_count": null,
   "metadata": {},
   "outputs": [],
   "source": [
    "from time import sleep\n",
    "print('Waiting 5 seconds...')\n",
    "sleep(5)\n",
    "print('Done')"
   ]
  },
  {
   "cell_type": "code",
   "execution_count": null,
   "metadata": {},
   "outputs": [],
   "source": [
    "def add2n(x, y):\n",
    "       \"\"\"Description of what the functions does\"\"\"\n",
    "       return x + y\n",
    "\n",
    "add2n(10,2)"
   ]
  },
  {
   "cell_type": "code",
   "execution_count": null,
   "metadata": {},
   "outputs": [],
   "source": [
    "import re\n",
    "\n",
    "# remove English characters\n",
    "def remove_english_chars(text):\n",
    "    return re.sub(\"[a-zA-Z]\", \"\", text)\n",
    "\n",
    "remove_english_chars(\"محمدKsaw مهدي\")"
   ]
  },
  {
   "cell_type": "code",
   "execution_count": null,
   "metadata": {},
   "outputs": [],
   "source": [
    "def remove_english_chars_2(text):\n",
    "    clean_text = \"\"\n",
    "    en_chars_lower = ['a', 'b', 'c', 'd', 'e', 'f', 'g', 'h', 'i', 'j', 'k', 'l', 'm', 'n', 'o', 'p', 'q', 'r', 's', 't', 'u', 'v', 'w', 'x', 'y', 'z']\n",
    "    en_chars_upper = [c.upper() for c in en_chars_lower]\n",
    "    for c in text:\n",
    "        if c in en_chars_lower or c in en_chars_upper:continue\n",
    "        else:clean_text += c\n",
    "    \n",
    "    return clean_text\n",
    "\n",
    "remove_english_chars_2(\"محمدKsaw مهدي\")"
   ]
  },
  {
   "attachments": {},
   "cell_type": "markdown",
   "metadata": {},
   "source": [
    "## Nested Functions"
   ]
  },
  {
   "cell_type": "code",
   "execution_count": null,
   "metadata": {},
   "outputs": [],
   "source": [
    "def outer(a): # Main function \n",
    "    def inner(b): # Inner function or Nested function\n",
    "        return a + b\n",
    "        \n",
    "    # Call the inner function\n",
    "    x = inner\n",
    "    return x\n",
    "\n",
    "\n",
    "y = outer(2)\n",
    "print(y(3))"
   ]
  },
  {
   "cell_type": "code",
   "execution_count": null,
   "metadata": {},
   "outputs": [],
   "source": [
    "def data_splitting(file_name, file_ext=\"csv\", test_size=20):\n",
    "    file = f'{file_name}.{file_ext}'\n",
    "    train_size = 100 - test_size\n",
    "    print(f\"file_name = {file}\\ntrain = {train_size}\\ntest = {test_size}\")\n",
    "\n",
    "data_splitting(\"students\")"
   ]
  },
  {
   "cell_type": "code",
   "execution_count": null,
   "metadata": {},
   "outputs": [],
   "source": [
    "data_splitting(\"students\", test_size=30)"
   ]
  },
  {
   "attachments": {},
   "cell_type": "markdown",
   "metadata": {},
   "source": [
    "## Variable Argument Lists\n",
    "\n",
    "In a function definition, a formal argument of the form `*variablename` will collect all optional positional arguments and put them into a list. Similarly, a formal argument of the form `**variablename` will collect all optional keyword arguments and put them into a dictionary."
   ]
  },
  {
   "cell_type": "code",
   "execution_count": null,
   "metadata": {},
   "outputs": [],
   "source": [
    "def f4(arg1, arg2, *more_positional_args, c=10, **keyword_args):\n",
    "    print(arg1)\n",
    "    print(arg2)\n",
    "    print(more_positional_args)\n",
    "    print(c)\n",
    "    print(keyword_args)\n",
    "\n",
    "f4(1, 2, 3, 4, a=5, b=6, c=7)\n",
    "\n",
    "print(\"*\" * 20)\n",
    "x = (1, 2, 3, 4)\n",
    "y = {\"a\": \"b\", \"c\": \"d\"}\n",
    "f4(*x, **y)"
   ]
  },
  {
   "attachments": {},
   "cell_type": "markdown",
   "metadata": {},
   "source": [
    "## Local and Global Scope\n",
    "\n",
    "We have seen that **functions** make maintaining code easier by avoiding **duplication**. One of the most dangerous areas for duplication is variable names. As programming projects become larger, the possibility that a variable will be **re-used** goes up. This can cause weird errors in our programs that are hard to track down. We can alleviate the problem of duplicate variable names through the concepts of **local** scope and **global** scope."
   ]
  },
  {
   "cell_type": "code",
   "execution_count": null,
   "metadata": {},
   "outputs": [],
   "source": [
    "global_string = 'global'\n",
    "def print_strings():\n",
    "    print('We are in the local context:')\n",
    "    local_string = 'local'\n",
    "    print(global_string)\n",
    "    print(local_string)\n",
    "print_strings()"
   ]
  },
  {
   "cell_type": "code",
   "execution_count": null,
   "metadata": {},
   "outputs": [],
   "source": [
    "string = 'global'\n",
    "def share_strings():\n",
    "    string = 'local'\n",
    "    print(string)\n",
    "share_strings()"
   ]
  },
  {
   "cell_type": "code",
   "execution_count": null,
   "metadata": {},
   "outputs": [],
   "source": [
    "string = 'global'\n",
    "def share_strings():\n",
    "    global string\n",
    "    string = 'local'\n",
    "    print(string)\n",
    "share_strings()\n",
    "print(string)"
   ]
  },
  {
   "attachments": {},
   "cell_type": "markdown",
   "metadata": {},
   "source": [
    "## Anonymous functions\n",
    "\n",
    "An anoymous function can be created with a lambda expression. Note that a function defined via a `lambda` expression does not have a return statement. Instead, it contains a single statement (written on the same line) whose evaluated value is used as the return statement."
   ]
  },
  {
   "cell_type": "code",
   "execution_count": null,
   "metadata": {},
   "outputs": [],
   "source": [
    "def apply(items, fn):\n",
    "    output = []\n",
    "    for item in items:\n",
    "        output.append(fn(item))\n",
    "    return output\n",
    "\n",
    "ages = [20,21,30,18,34,48]\n",
    "mean = sum(ages) / len(ages)\n",
    "diff = apply(ages, lambda x: x-mean)\n",
    "\n",
    "print(mean)\n",
    "print(ages[0]-mean)\n",
    "print(diff)"
   ]
  },
  {
   "attachments": {},
   "cell_type": "markdown",
   "metadata": {},
   "source": [
    "## Map()"
   ]
  },
  {
   "cell_type": "code",
   "execution_count": null,
   "metadata": {},
   "outputs": [],
   "source": [
    "diff = map(lambda x: x-mean, ages)\n",
    "print(list(diff))"
   ]
  },
  {
   "attachments": {},
   "cell_type": "markdown",
   "metadata": {},
   "source": [
    "## Filter()"
   ]
  },
  {
   "cell_type": "code",
   "execution_count": null,
   "metadata": {},
   "outputs": [],
   "source": [
    "seq = [0, 1, 2, 3, 4, 5]\n",
    "\n",
    "# result contains odd numbers of the list\n",
    "result = filter(lambda x: x % 2, seq)\n",
    "print(list(result))\n",
    "\n",
    "# result contains even numbers of the list\n",
    "result = filter(lambda x: x % 2 == 0, seq)\n",
    "print(list(result))"
   ]
  },
  {
   "cell_type": "code",
   "execution_count": null,
   "metadata": {},
   "outputs": [],
   "source": [
    "users = [\n",
    "    {\"username\": 'samuel', \"tweets\": [\"i love cake\", \"i am good\"]},\n",
    "    {\"username\": 'andy', \"tweets\": []},\n",
    "    {\"username\": 'kumal', \"tweets\": [\"India\", \"Python\"]},\n",
    "    {\"username\": 'sam', \"tweets\": []},\n",
    "    {\"username\": 'lokesh', \"tweets\": [\"i am good\"]},\n",
    "]\n",
    "\n",
    "inactive_users = list(filter(lambda a:not a['tweets'], users))\n",
    "print(inactive_users)"
   ]
  },
  {
   "attachments": {},
   "cell_type": "markdown",
   "metadata": {},
   "source": [
    "## Zip()"
   ]
  },
  {
   "cell_type": "code",
   "execution_count": null,
   "metadata": {},
   "outputs": [],
   "source": [
    "name = [\"Manjeet\", \"Nikhil\", \"Shambhavi\"]\n",
    "roll_no = [4, 1, 3]\n",
    "marks = [40, 50, 60]\n",
    "\n",
    "mapped = zip(name, roll_no, marks)\n",
    "\n",
    "print(list(mapped))"
   ]
  },
  {
   "attachments": {},
   "cell_type": "markdown",
   "metadata": {},
   "source": [
    "## String Methods"
   ]
  },
  {
   "cell_type": "code",
   "execution_count": null,
   "metadata": {},
   "outputs": [],
   "source": [
    "name = \"mohammed\"\n",
    "categories = [\"red\", \"green\", \"blue\"]\n",
    "text = \"Machine learning is a branch of artificial intelligence\"\n",
    "print(name.upper())\n",
    "print(name.capitalize())\n",
    "print(\", \".join(categories))\n",
    "print(text.split())\n",
    "print(name.replace(\"m\", \"0\"))\n",
    "print(categories[0].rjust(5))\n",
    "print(categories[0].center(10))\n",
    "tmp = \"   test\"\n",
    "print(tmp)\n",
    "print(tmp.lstrip())"
   ]
  },
  {
   "attachments": {},
   "cell_type": "markdown",
   "metadata": {},
   "source": [
    "## Classes & Objects\n",
    "\n",
    "Python is an **object-oriented** programming language. This means that almost all the code is implemented using a special construct called classes. A **class** is a code template for creating **objects**.\n",
    "\n",
    "* Class: The class is a **user-defined** data structure that binds the data members and methods into a single unit. Class is a **blueprint** or code template for **object** creation. Using a class, you can create as many objects as you want.\n",
    "\n",
    "* Object: An object is an **instance** of a class. It is a collection of attributes (variables) and methods. We use the object of a class to perform actions."
   ]
  },
  {
   "cell_type": "code",
   "execution_count": null,
   "metadata": {},
   "outputs": [],
   "source": [
    "class Car:\n",
    "    def __init__(self, year ,make):\n",
    "        self.__year_model = year\n",
    "        self.__make = make\n",
    "        self.__speed = 0\n",
    "\n",
    "    def accelerate(self):\n",
    "        self.__speed +=5\n",
    "\n",
    "    def brake(self):\n",
    "        self.__speed -=5\n",
    "\n",
    "    def get_speed(self):\n",
    "        return self.__speed"
   ]
  },
  {
   "cell_type": "code",
   "execution_count": null,
   "metadata": {},
   "outputs": [],
   "source": [
    "my_car = Car(2019, \"Toyota\")"
   ]
  },
  {
   "cell_type": "code",
   "execution_count": null,
   "metadata": {},
   "outputs": [],
   "source": [
    "for i in range(5):\n",
    "    my_car.accelerate()\n",
    "    print(\"Speed = \",my_car.get_speed())"
   ]
  },
  {
   "attachments": {},
   "cell_type": "markdown",
   "metadata": {},
   "source": [
    "### Inheritance\n",
    "\n",
    "Inheritance allows us to define a class that inherits all the methods and properties from another class.\n",
    "\n",
    "* **Parent** class is the class being inherited from, also called base class.\n",
    "\n",
    "* **Child** class is the class that inherits from another class, also called derived class."
   ]
  },
  {
   "cell_type": "code",
   "execution_count": null,
   "metadata": {},
   "outputs": [],
   "source": [
    "class Person:\n",
    "  def __init__(self, fname, lname):\n",
    "    self.firstname = fname\n",
    "    self.lastname = lname\n",
    "\n",
    "  def printname(self):\n",
    "    print(self.firstname, self.lastname)\n",
    "\n",
    "x = Person(\"Ahmed\", \"Mustafa\")\n",
    "x.printname()"
   ]
  },
  {
   "cell_type": "code",
   "execution_count": null,
   "metadata": {},
   "outputs": [],
   "source": [
    "class Student(Person):\n",
    "  pass"
   ]
  },
  {
   "cell_type": "code",
   "execution_count": null,
   "metadata": {},
   "outputs": [],
   "source": [
    "x = Student(\"Mike\", \"Olsen\")\n",
    "x.printname()"
   ]
  },
  {
   "attachments": {},
   "cell_type": "markdown",
   "metadata": {},
   "source": [
    "### Polymorphism\n",
    "\n",
    "Polymorphism is often used in Class methods, where we can have multiple classes with the same method name."
   ]
  },
  {
   "cell_type": "code",
   "execution_count": null,
   "metadata": {},
   "outputs": [],
   "source": [
    "class Vehicle:\n",
    "  def __init__(self, brand, model):\n",
    "    self.brand = brand\n",
    "    self.model = model\n",
    "\n",
    "  def move(self):\n",
    "    print(\"Move!\")\n",
    "\n",
    "class Car(Vehicle):\n",
    "  pass\n",
    "\n",
    "class Boat(Vehicle):\n",
    "  def move(self):\n",
    "    print(\"Sail!\")\n",
    "\n",
    "class Plane(Vehicle):\n",
    "  def move(self):\n",
    "    print(\"Fly!\")\n",
    "\n",
    "car1 = Car(\"Ford\", \"Mustang\")\n",
    "boat1 = Boat(\"Ibiza\", \"Touring 20\")\n",
    "plane1 = Plane(\"Boeing\", \"747\")\n",
    "\n",
    "for x in (car1, boat1, plane1):\n",
    "  print(x.brand)\n",
    "  print(x.model)\n",
    "  x.move()"
   ]
  }
 ],
 "metadata": {
  "language_info": {
   "name": "python"
  },
  "orig_nbformat": 4
 },
 "nbformat": 4,
 "nbformat_minor": 2
}
